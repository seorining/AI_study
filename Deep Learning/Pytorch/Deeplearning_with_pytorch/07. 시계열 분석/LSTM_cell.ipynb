{
 "cells": [
  {
   "cell_type": "code",
   "execution_count": 1,
   "metadata": {},
   "outputs": [],
   "source": [
    "import torch\n",
    "import torch.nn as nn\n",
    "import torchvision.transforms as transforms\n",
    "import torchvision.datasets as datasets\n",
    "from torch.nn import Parameter\n",
    "from torch import Tensor\n",
    "import torch.nn.functional as F\n",
    "from torch.utils.data import DataLoader\n",
    "import math\n",
    "\n",
    "device = 'cuda' if torch.cuda.is_available() else 'cpu'"
   ]
  },
  {
   "cell_type": "code",
   "execution_count": 2,
   "metadata": {},
   "outputs": [],
   "source": [
    "mnist_transform = transforms.Compose([\n",
    "    transforms.ToTensor(),\n",
    "    transforms.Normalize((0.5, ), (1.0,))\n",
    "])"
   ]
  },
  {
   "cell_type": "code",
   "execution_count": 3,
   "metadata": {},
   "outputs": [],
   "source": [
    "from torchvision.datasets import MNIST\n",
    "\n",
    "download_root = '.data/MNIST_DATASET'\n",
    "\n",
    "train_dataset = MNIST(download_root, transform=mnist_transform, train=True, download=True)\n",
    "valid_dataset = MNIST(download_root, transform=mnist_transform, train=False, download=True)\n",
    "test_dataset = MNIST(download_root, transform=mnist_transform, train=False, download=True)"
   ]
  },
  {
   "cell_type": "code",
   "execution_count": 4,
   "metadata": {},
   "outputs": [],
   "source": [
    "batch_size = 64\n",
    "train_loader = DataLoader(dataset=train_dataset, batch_size=batch_size, shuffle=True)\n",
    "valid_loader = DataLoader(dataset=test_dataset, batch_size=batch_size, shuffle=True)\n",
    "test_loader = DataLoader(dataset=test_dataset, batch_size=batch_size, shuffle=True)"
   ]
  },
  {
   "cell_type": "code",
   "execution_count": 5,
   "metadata": {},
   "outputs": [
    {
     "data": {
      "text/plain": [
       "10"
      ]
     },
     "execution_count": 5,
     "metadata": {},
     "output_type": "execute_result"
    }
   ],
   "source": [
    "n_iters = 6000\n",
    "num_epochs = n_iters / (len(train_dataset) / 100)\n",
    "num_epochs = int(num_epochs)\n",
    "num_epochs"
   ]
  },
  {
   "cell_type": "code",
   "execution_count": 6,
   "metadata": {},
   "outputs": [],
   "source": [
    "class LSTMCell(nn.Module):\n",
    "    def __init__(self, input_size, hidden_size, bias=True):\n",
    "        super(LSTMCell, self).__init__()\n",
    "        self.input_size = input_size\n",
    "        self.hidden_size = hidden_size\n",
    "        self.bias = bias\n",
    "        self.x2h = nn.Linear(input_size, 4 * hidden_size, bias=bias)\n",
    "        self.h2h = nn.Linear(hidden_size, 4 * hidden_size, bias=bias)\n",
    "        self.reset_parameters()\n",
    "        \n",
    "    def reset_parameters(self):\n",
    "        std = 1.0 / math.sqrt(self.hidden_size)\n",
    "        for w in self.parameters():\n",
    "            w.data.uniform_(-std, std)\n",
    "    \n",
    "    def forward(self, x , hidden):\n",
    "        hx, cx = hidden\n",
    "        x = x.view(-1, x.size(1))\n",
    "        \n",
    "        gates = self.x2h(x) + self.h2h(hx)\n",
    "        gates = gates.squeeze()\n",
    "        ingate, forgetgate, cellgate, outgate = gates.chunk(4, 1)\n",
    "        \n",
    "        ingate = F.sigmoid(ingate)\n",
    "        forgetgate = F.sigmoid(forgetgate)\n",
    "        cellgate = F.tanh(cellgate)\n",
    "        outgate = F.sigmoid(outgate)\n",
    "        \n",
    "        cy = torch.mul(cx, forgetgate) +  torch.mul(ingate, cellgate)        \n",
    "        hy = torch.mul(outgate, F.tanh(cy))   \n",
    "        return (hy, cy)"
   ]
  },
  {
   "cell_type": "code",
   "execution_count": 7,
   "metadata": {},
   "outputs": [],
   "source": [
    "class LSTMModel(nn.Module):\n",
    "    def __init__(self, input_dim, hidden_dim, layer_dim, output_dim, bias=True):\n",
    "        super(LSTMModel, self).__init__()\n",
    "        self.hidden_dim = hidden_dim\n",
    "        self.layer_dim = layer_dim\n",
    "        \n",
    "        self.lstm = LSTMCell(input_dim, hidden_dim, layer_dim)\n",
    "        self.fc = nn.Linear(hidden_dim, output_dim)\n",
    "        \n",
    "    def forward(self, x):\n",
    "        h0 = torch.zeros(self.layer_dim, x.size(0), self.hidden_dim).to(device)\n",
    "        h0.requires_grad_(True)\n",
    "        c0 = torch.zeros(self.layer_dim, x.size(0), self.hidden_dim).to(device)\n",
    "        c0.requires_grad_(True)\n",
    "        \n",
    "        outs = []\n",
    "        cn= c0[0,:,:]\n",
    "        hn = h0[0,:,:]\n",
    "        \n",
    "        for seq in range(x.size(1)):\n",
    "            hn, cn = self.lstm(x[:,seq,:], (hn,cn))\n",
    "            outs.append(hn)\n",
    "            \n",
    "        out = outs[-1].squeeze()\n",
    "        out = self.fc(out)\n",
    "        return out"
   ]
  },
  {
   "cell_type": "code",
   "execution_count": 8,
   "metadata": {},
   "outputs": [],
   "source": [
    "input_dim = 28\n",
    "hidden_dim = 128\n",
    "layer_dim = 1\n",
    "output_dim = 10\n",
    "\n",
    "model = LSTMModel(input_dim, hidden_dim, layer_dim, output_dim)\n",
    "model.to(device)\n",
    "criterion = nn.CrossEntropyLoss()\n",
    "lr = 0.1\n",
    "optimizer = torch.optim.SGD(model.parameters(), lr=lr)"
   ]
  },
  {
   "cell_type": "code",
   "execution_count": 9,
   "metadata": {},
   "outputs": [
    {
     "name": "stdout",
     "output_type": "stream",
     "text": [
      "Iteration: 500. Loss: 2.265587091445923. Accuracy: 18.59000015258789\n",
      "Iteration: 1000. Loss: 0.705100953578949. Accuracy: 70.7300033569336\n",
      "Iteration: 1500. Loss: 0.34851381182670593. Accuracy: 83.30000305175781\n",
      "Iteration: 2000. Loss: 0.15733450651168823. Accuracy: 93.16999816894531\n",
      "Iteration: 2500. Loss: 0.1560400277376175. Accuracy: 94.79000091552734\n",
      "Iteration: 3000. Loss: 0.04884061589837074. Accuracy: 96.08999633789062\n",
      "Iteration: 3500. Loss: 0.020289091393351555. Accuracy: 96.37000274658203\n",
      "Iteration: 4000. Loss: 0.36019933223724365. Accuracy: 96.72000122070312\n",
      "Iteration: 4500. Loss: 0.14839287102222443. Accuracy: 96.37000274658203\n",
      "Iteration: 5000. Loss: 0.07194089889526367. Accuracy: 96.83999633789062\n",
      "Iteration: 5500. Loss: 0.09262465685606003. Accuracy: 97.31999969482422\n",
      "Iteration: 6000. Loss: 0.05349844694137573. Accuracy: 96.87000274658203\n",
      "Iteration: 6500. Loss: 0.133072167634964. Accuracy: 97.66000366210938\n",
      "Iteration: 7000. Loss: 0.09087693691253662. Accuracy: 97.73999786376953\n",
      "Iteration: 7500. Loss: 0.04492311552166939. Accuracy: 97.80999755859375\n",
      "Iteration: 8000. Loss: 0.03765619918704033. Accuracy: 98.0999984741211\n",
      "Iteration: 8500. Loss: 0.042987581342458725. Accuracy: 98.05000305175781\n",
      "Iteration: 9000. Loss: 0.03753872215747833. Accuracy: 98.04000091552734\n"
     ]
    }
   ],
   "source": [
    "seq_dim = 28 \n",
    "loss_list = []\n",
    "iter = 0\n",
    "for epoch in range(num_epochs):\n",
    "    for i, (images, labels) in enumerate(train_loader):          \n",
    "        images = images.view(-1, seq_dim, input_dim).to(device)\n",
    "        labels = labels.to(device)\n",
    "        images.requires_grad_(True)\n",
    "\n",
    "        optimizer.zero_grad()\n",
    "        outputs = model(images)\n",
    "        loss = criterion(outputs, labels)\n",
    "        loss.backward()\n",
    "        optimizer.step()        \n",
    "        loss_list.append(loss.item())\n",
    "        iter += 1\n",
    "        \n",
    "        if iter % 500 == 0:         \n",
    "            correct = 0\n",
    "            total = 0\n",
    "            for images, labels in valid_loader:\n",
    "                images = images.view(-1, seq_dim, input_dim).to(device)\n",
    "\n",
    "                \n",
    "                outputs = model(images)\n",
    "                _, predicted = torch.max(outputs.data, 1)\n",
    "                total += labels.size(0)\n",
    "                correct += (predicted.cpu() == labels.cpu()).sum()\n",
    "            \n",
    "            accuracy = 100 * correct / total\n",
    "            print('Iteration: {}. Loss: {}. Accuracy: {}'.format(iter, loss.item(), accuracy))"
   ]
  },
  {
   "cell_type": "code",
   "execution_count": 10,
   "metadata": {},
   "outputs": [],
   "source": [
    "def evaluate(model, val_iter):    \n",
    "    corrects, total, total_loss = 0, 0, 0\n",
    "    model.eval()\n",
    "    for images, labels in val_iter:\n",
    "        images = images.view(-1, seq_dim, input_dim).to(device)\n",
    "        labels = labels.to(device)\n",
    "        \n",
    "        logit = model(images)\n",
    "        loss = F.cross_entropy(logit, labels, reduction = \"sum\")\n",
    "        _, predicted = torch.max(logit.data, 1)\n",
    "        total += labels.size(0)\n",
    "        total_loss += loss.item()\n",
    "        corrects += (predicted == labels).sum().item()\n",
    "\n",
    "    avg_loss = total_loss / len(val_iter.dataset)\n",
    "    avg_accuracy = corrects / total\n",
    "    return avg_loss, avg_accuracy"
   ]
  },
  {
   "cell_type": "code",
   "execution_count": 11,
   "metadata": {},
   "outputs": [
    {
     "name": "stdout",
     "output_type": "stream",
     "text": [
      "Test Loss:  0.07 | Test Accuracy:  0.98\n"
     ]
    }
   ],
   "source": [
    "test_loss, test_acc = evaluate(model,test_loader)\n",
    "print(\"Test Loss: %5.2f | Test Accuracy: %5.2f\" % (test_loss, test_acc))"
   ]
  }
 ],
 "metadata": {
  "kernelspec": {
   "display_name": "base",
   "language": "python",
   "name": "python3"
  },
  "language_info": {
   "codemirror_mode": {
    "name": "ipython",
    "version": 3
   },
   "file_extension": ".py",
   "mimetype": "text/x-python",
   "name": "python",
   "nbconvert_exporter": "python",
   "pygments_lexer": "ipython3",
   "version": "3.11.9"
  }
 },
 "nbformat": 4,
 "nbformat_minor": 2
}
