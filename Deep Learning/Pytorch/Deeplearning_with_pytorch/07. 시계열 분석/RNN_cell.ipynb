{
 "cells": [
  {
   "cell_type": "code",
   "execution_count": 1,
   "metadata": {},
   "outputs": [],
   "source": [
    "import torch\n",
    "import torchtext\n",
    "import numpy as np\n",
    "import torch.nn as nn\n",
    "import torch.nn.functional as F\n",
    "import time"
   ]
  },
  {
   "cell_type": "code",
   "execution_count": 2,
   "metadata": {},
   "outputs": [],
   "source": [
    "start = time.time()\n",
    "TEXT = torchtext.legacy.data.Field(lower=True, fix_length=200, batch_first=False)\n",
    "LABEL = torchtext.legacy.data.Field(sequential=False)"
   ]
  },
  {
   "cell_type": "code",
   "execution_count": 3,
   "metadata": {},
   "outputs": [],
   "source": [
    "from torchtext.legacy import datasets\n",
    "train_data, test_data = datasets.IMDB.splits(TEXT, LABEL)"
   ]
  },
  {
   "cell_type": "code",
   "execution_count": 4,
   "metadata": {},
   "outputs": [
    {
     "name": "stdout",
     "output_type": "stream",
     "text": [
      "{'text': ['i', 'went', 'into', 'this', 'movie', 'perhaps', 'a', 'bit', 'jaded', 'by', 'the', 'hack-and-slash', 'films', 'rampant', 'on', 'the', 'screen', 'these', 'days.', 'boy,', 'was', 'i', 'surprised.', 'this', 'little', 'treasure', 'was', 'pleasantly', 'paced', 'with', 'a', 'somber,', 'dark', 'atmosphere.', 'more', 'surprising', 'yet', 'was', 'the', 'very', 'limited', 'amount', 'of', 'blood', 'actually', 'shown.', 'as', 'with', 'most', 'good', 'movies,', 'this', 'one', 'leaves', 'something', 'to', 'the', 'imagination,', 'and', 'bill', 'paxton', 'did', 'a', 'superb', 'job', 'at', 'directing.', 'scenes', 'shot', 'inside', 'the', 'car', 'as', 'are', 'well', 'done', 'and,', 'after', 'watching', 'the', '\"anatomy', 'of', 'a', 'scene\"', 'episode', 'at', 'the', 'end', 'of', 'the', 'video', 'tape,', 'it', 'was', 'good', 'to', 'see', 'that', 'some', 'of', 'the', 'subtle,', 'yet', 'wonderful', 'things', 'i', 'had', 'noticed', 'were', 'intentional', 'and', 'not', 'just', 'an', '\"oh,', 'that', 'looks', 'good,', 'keep', 'it\"', 'type', 'of', 'direction.', 'this', 'is', 'a', 'moody', 'movie,', 'filled', 'with', 'grimness.', 'still,', 'for', 'the', 'dark', 'subject,', 'a', 'considerable', 'portion', 'of', 'it', 'is', 'filmed', 'in', 'daylight,', 'even', 'some', 'of', 'the', 'more', 'disturbing', 'scenes.', 'the', 'acting', 'is', 'exceptional', '(okay,', \"i've\", 'always', 'been', 'a', 'fan', 'of', 'powers', 'booth),', 'and', 'never', 'goes', 'over', 'the', 'top.', 'au', 'contraire,', 'it', 'is', 'very', 'subdued', 'which', 'works', 'extremely', 'well', 'for', 'this', 'type', 'of', 'film.', 'if', 'there', 'is', 'any', 'one', 'area', 'where', 'this', 'film', 'lacks,', 'it', 'is', 'in', 'the', 'ending,', 'which', 'seems', 'just', 'a', 'bit', 'too', 'contrived,', 'but', 'still', 'works', 'on', 'a', 'simpler', 'level', 'without', 'destroying', 'the', 'mood', 'or', 'the', 'message', 'of', 'the', 'movie.', 'what', 'is', 'the', 'message?', \"it's\", 'something', 'that', 'each', 'individual', 'decides', 'for', 'themself.', 'overall,', 'on', 'the', '1-10', 'scale,', 'this', 'movie', 'scores', 'an', '8', 'for', 'those', 'who', 'like', 'the', 'southern', 'gothic', 'genre', '(ie:', '\"body', 'heat\"', 'or', '\"midnight', 'in', 'the', 'garden', 'of', 'good', 'and', 'evil\"),', 'and', 'about', 'a', '5', 'for', 'those', 'who', \"don't.\"], 'label': 'pos'}\n"
     ]
    }
   ],
   "source": [
    "print(vars(train_data.examples[0]))"
   ]
  },
  {
   "cell_type": "code",
   "execution_count": 5,
   "metadata": {},
   "outputs": [],
   "source": [
    "import string\n",
    "\n",
    "for example in train_data.examples:\n",
    "    text = [x.lower() for x in vars(example)['text']]\n",
    "    text = [x.replace(\"<br\",\"\")for x in text]\n",
    "    text = [''.join(c for c in s if c not in string.punctuation) for s in text]\n",
    "    text = [s for s in text if s]\n",
    "    vars(example)['text'] = text\n",
    "    \n",
    "for example in test_data.examples:\n",
    "    text = [x.lower() for x in vars(example)['text']]\n",
    "    text = [x.replace(\"<br\", \"\") for x in text]\n",
    "    text = [''.join(c for c in s if c not in string.punctuation) for s in text]\n",
    "    text = [s for s in text if s]\n",
    "    vars(example)['text'] = text"
   ]
  },
  {
   "cell_type": "code",
   "execution_count": 6,
   "metadata": {},
   "outputs": [],
   "source": [
    "import random\n",
    "train_data, valid_data = train_data.split(random_state = random.seed(0), split_ratio = 0.8)"
   ]
  },
  {
   "cell_type": "code",
   "execution_count": 7,
   "metadata": {},
   "outputs": [
    {
     "name": "stdout",
     "output_type": "stream",
     "text": [
      "Number of training examples: 20000\n",
      "Number of validation examples: 5000\n",
      "Number of testing examples: 25000\n"
     ]
    }
   ],
   "source": [
    "print(f'Number of training examples: {len(train_data)}')\n",
    "print(f'Number of validation examples: {len(valid_data)}')\n",
    "print(f'Number of testing examples: {len(test_data)}')"
   ]
  },
  {
   "cell_type": "code",
   "execution_count": 8,
   "metadata": {},
   "outputs": [
    {
     "name": "stdout",
     "output_type": "stream",
     "text": [
      "Unique tokens in TEXT vocabulary: 10002\n",
      "Unique tokens in LABEL vocabulary: 3\n"
     ]
    }
   ],
   "source": [
    "TEXT.build_vocab(train_data, max_size=10000, min_freq=10, vectors=None)\n",
    "LABEL.build_vocab(train_data)\n",
    "\n",
    "print(f'Unique tokens in TEXT vocabulary: {len(TEXT.vocab)}')\n",
    "print(f'Unique tokens in LABEL vocabulary: {len(LABEL.vocab)}')"
   ]
  },
  {
   "cell_type": "code",
   "execution_count": 9,
   "metadata": {},
   "outputs": [
    {
     "name": "stdout",
     "output_type": "stream",
     "text": [
      "defaultdict(<bound method Vocab._default_unk_index of <torchtext.legacy.vocab.Vocab object at 0x7f87e4ea9410>>, {'<unk>': 0, 'pos': 1, 'neg': 2})\n"
     ]
    }
   ],
   "source": [
    "print(LABEL.vocab.stoi)"
   ]
  },
  {
   "cell_type": "code",
   "execution_count": 10,
   "metadata": {},
   "outputs": [],
   "source": [
    "batch_size = 64\n",
    "device = 'cuda' if torch.cuda.is_available() else \"cpu\"\n",
    "device = 'cpu' #cuda version error\n",
    "\n",
    "embedding_dim = 10\n",
    "hidden_size = 300\n",
    "train_iterator, valid_iterator, test_iterator = torchtext.legacy.data.BucketIterator.splits(\n",
    "    (train_data, valid_data, test_data),\n",
    "    batch_size = batch_size,\n",
    "    device = device)"
   ]
  },
  {
   "cell_type": "code",
   "execution_count": 11,
   "metadata": {},
   "outputs": [],
   "source": [
    "class RNNCell_Encoder(nn.Module):\n",
    "    def __init__(self, input_dim, hidden_size):\n",
    "        super(RNNCell_Encoder, self).__init__()\n",
    "        self.rnn = nn.RNNCell(input_dim, hidden_size)\n",
    "        self.hidden_size = hidden_size\n",
    "        \n",
    "    def forward(self, inputs):\n",
    "        bz = inputs.shape[1]\n",
    "        ht = torch.zeros((bz, self.hidden_size)).to(device)\n",
    "        \n",
    "        for word in inputs:\n",
    "            ht = self.rnn(word, ht)\n",
    "        return ht\n",
    "\n",
    "class Net(nn.Module):\n",
    "    def __init__(self, embedding_dim, hidden_size):\n",
    "        super(Net, self).__init__()\n",
    "        self.em = nn.Embedding(len(TEXT.vocab.stoi), embedding_dim)\n",
    "        self.rnn = RNNCell_Encoder(embedding_dim, hidden_size)\n",
    "        self.fc1 = nn.Linear(hidden_size, 256)\n",
    "        self.fc2 = nn.Linear(256, 3)\n",
    "        \n",
    "    def forward(self, x):\n",
    "        x = self.em(x)\n",
    "        x = self.rnn(x)\n",
    "        x = F.relu(self.fc1(x))\n",
    "        x = self.fc2(x)\n",
    "        return x"
   ]
  },
  {
   "cell_type": "code",
   "execution_count": 12,
   "metadata": {},
   "outputs": [],
   "source": [
    "model = Net(embedding_dim = 10, hidden_size = 300)\n",
    "model.to(device)\n",
    "\n",
    "loss_fn = nn.CrossEntropyLoss()\n",
    "optimizer = torch.optim.Adam(model.parameters(), lr=0.0001)"
   ]
  },
  {
   "cell_type": "code",
   "execution_count": 13,
   "metadata": {},
   "outputs": [],
   "source": [
    "def training(epoch, model, trainloader, validloader):\n",
    "    correct = 0\n",
    "    total = 0\n",
    "    running_loss = 0\n",
    "    \n",
    "    model.train()\n",
    "    for b in trainloader:\n",
    "        x, y = b.text, b.label\n",
    "        y_pred = model(x.to(device))\n",
    "        loss = loss_fn(y_pred, y.to(device))\n",
    "        optimizer.zero_grad()\n",
    "        loss.backward()\n",
    "        optimizer.step()\n",
    "        with torch.no_grad():\n",
    "            y_pred = torch.argmax(y_pred, dim=1)\n",
    "            correct += (y_pred == y).sum().item()\n",
    "            total += y.size(0)\n",
    "            running_loss += loss.item()\n",
    "    epoch_loss = running_loss / len(trainloader.dataset)\n",
    "    epoch_acc = correct / total\n",
    "    \n",
    "    valid_correct = 0\n",
    "    valid_total = 0\n",
    "    valid_running_loss = 0\n",
    "    \n",
    "    model.eval()\n",
    "    with torch.no_grad():\n",
    "        for b in validloader:\n",
    "            x, y = b.text, b.label\n",
    "            y_pred = model(x.to(device))\n",
    "            loss = loss_fn(y_pred, y.to(device))\n",
    "            y_pred = torch.argmax(y_pred, dim=1)\n",
    "            valid_correct += (y_pred == y).sum().item()\n",
    "            valid_total += y.size(0)\n",
    "            valid_running_loss += loss.item()\n",
    "            \n",
    "    epoch_valid_loss = valid_running_loss / len(validloader.dataset)\n",
    "    epoch_valid_acc = valid_correct / valid_total\n",
    "    \n",
    "    \n",
    "    print('epoch: ', epoch,\n",
    "          'loss: ', round(epoch_loss, 3),\n",
    "          'accuaracy: ', round(epoch_acc, 3),\n",
    "          'valid_loss: ', round(epoch_valid_loss, 3),\n",
    "          'valid_accuarcy: ', round(epoch_valid_acc, 3))\n",
    "    \n",
    "    return epoch_loss, epoch_acc, epoch_valid_loss, epoch_valid_acc"
   ]
  },
  {
   "cell_type": "code",
   "execution_count": 14,
   "metadata": {},
   "outputs": [
    {
     "name": "stdout",
     "output_type": "stream",
     "text": [
      "epoch:  0 loss:  0.011 accuaracy:  0.492 valid_loss:  0.011 valid_accuarcy:  0.505\n",
      "epoch:  1 loss:  0.011 accuaracy:  0.496 valid_loss:  0.011 valid_accuarcy:  0.498\n",
      "epoch:  2 loss:  0.011 accuaracy:  0.499 valid_loss:  0.011 valid_accuarcy:  0.495\n",
      "epoch:  3 loss:  0.011 accuaracy:  0.502 valid_loss:  0.011 valid_accuarcy:  0.495\n",
      "epoch:  4 loss:  0.011 accuaracy:  0.501 valid_loss:  0.011 valid_accuarcy:  0.505\n",
      "951.3515832424164\n"
     ]
    }
   ],
   "source": [
    "epochs = 5\n",
    "train_loss = []\n",
    "train_acc = []\n",
    "valid_loss = []\n",
    "valid_acc = []\n",
    "\n",
    "for epoch in range(epochs):\n",
    "    epoch_loss, epoch_acc, epoch_valid_loss, epoch_valid_acc \\\n",
    "    = training(epoch,model,train_iterator,valid_iterator)\n",
    "    train_loss.append(epoch_loss)\n",
    "    train_acc.append(epoch_acc)\n",
    "    valid_loss.append(epoch_valid_loss)\n",
    "    valid_acc.append(epoch_valid_acc)\n",
    "\n",
    "end = time.time()\n",
    "print(end-start)"
   ]
  },
  {
   "cell_type": "code",
   "execution_count": 15,
   "metadata": {},
   "outputs": [],
   "source": [
    "def evaluate(epoch, model, testloader):    \n",
    "    test_correct = 0\n",
    "    test_total = 0\n",
    "    test_running_loss = 0\n",
    "    \n",
    "    model.eval()\n",
    "    with torch.no_grad():\n",
    "        for b in testloader:\n",
    "            x, y = b.text, b.label\n",
    "            x, y = x.to(device), y.to(device)\n",
    "            y_pred = model(x)\n",
    "            loss = loss_fn(y_pred, y)\n",
    "            y_pred = torch.argmax(y_pred, dim=1)\n",
    "            test_correct += (y_pred == y).sum().item()\n",
    "            test_total += y.size(0)\n",
    "            test_running_loss += loss.item()\n",
    "\n",
    "    epoch_test_loss = test_running_loss / len(testloader.dataset)\n",
    "    epoch_test_acc = test_correct / test_total\n",
    "\n",
    "    print('epoch: ', epoch,\n",
    "          'test_loss： ', round(epoch_test_loss, 3),\n",
    "          'test_accuracy:', round(epoch_test_acc, 3)\n",
    "          )\n",
    "    return epoch_test_loss, epoch_test_acc"
   ]
  },
  {
   "cell_type": "code",
   "execution_count": 16,
   "metadata": {},
   "outputs": [
    {
     "name": "stdout",
     "output_type": "stream",
     "text": [
      "epoch:  0 test_loss：  0.011 test_accuracy: 0.501\n",
      "epoch:  1 test_loss：  0.011 test_accuracy: 0.501\n",
      "epoch:  2 test_loss：  0.011 test_accuracy: 0.501\n",
      "epoch:  3 test_loss：  0.011 test_accuracy: 0.501\n",
      "epoch:  4 test_loss：  0.011 test_accuracy: 0.501\n",
      "1132.333551645279\n"
     ]
    }
   ],
   "source": [
    "epochs = 5\n",
    "test_loss = []\n",
    "test_acc = []\n",
    "\n",
    "for epoch in range(epochs):\n",
    "    epoch_test_loss, epoch_test_acc = evaluate(epoch,\n",
    "                                               model,\n",
    "                                               test_iterator)\n",
    "    test_loss.append(epoch_test_loss)\n",
    "    test_acc.append(epoch_test_acc)\n",
    "\n",
    "end = time.time()\n",
    "print(end-start)"
   ]
  }
 ],
 "metadata": {
  "kernelspec": {
   "display_name": "base",
   "language": "python",
   "name": "python3"
  },
  "language_info": {
   "codemirror_mode": {
    "name": "ipython",
    "version": 3
   },
   "file_extension": ".py",
   "mimetype": "text/x-python",
   "name": "python",
   "nbconvert_exporter": "python",
   "pygments_lexer": "ipython3",
   "version": "3.7.10"
  }
 },
 "nbformat": 4,
 "nbformat_minor": 2
}
