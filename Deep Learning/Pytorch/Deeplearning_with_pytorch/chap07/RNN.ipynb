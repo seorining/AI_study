{
 "cells": [
  {
   "cell_type": "code",
   "execution_count": 1,
   "metadata": {},
   "outputs": [],
   "source": [
    "import torch\n",
    "import torchtext\n",
    "import numpy as np\n",
    "import torch.nn as nn\n",
    "import torch.nn.functional as F\n",
    "import time"
   ]
  },
  {
   "cell_type": "code",
   "execution_count": 2,
   "metadata": {},
   "outputs": [],
   "source": [
    "start=time.time()\n",
    "\n",
    "TEXT = torchtext.legacy.data.Field(sequential = True, batch_first = True, lower = True)\n",
    "LABEL = torchtext.legacy.data.Field(sequential = False, batch_first = True) \n",
    "\n",
    "from torchtext.legacy import datasets\n",
    "train_data, test_data = datasets.IMDB.splits(TEXT, LABEL)\n",
    "train_data, valid_data = train_data.split(split_ratio = 0.8)\n",
    "\n",
    "TEXT.build_vocab(train_data, max_size=10000, min_freq=10, vectors=None)\n",
    "LABEL.build_vocab(train_data)\n",
    "\n",
    "BATCH_SIZE = 100\n",
    "device = 'cpu'"
   ]
  },
  {
   "cell_type": "code",
   "execution_count": 3,
   "metadata": {},
   "outputs": [],
   "source": [
    "train_iterator, valid_iterator, test_iterator = torchtext.legacy.data.BucketIterator.splits(\n",
    "    (train_data, valid_data, test_data), \n",
    "    batch_size = BATCH_SIZE,\n",
    "    device = device)"
   ]
  },
  {
   "cell_type": "code",
   "execution_count": 4,
   "metadata": {},
   "outputs": [],
   "source": [
    "vocab_size = len(TEXT.vocab)\n",
    "n_classes = 2"
   ]
  },
  {
   "cell_type": "code",
   "execution_count": 5,
   "metadata": {},
   "outputs": [],
   "source": [
    "class BasicRNN(nn.Module):\n",
    "    def __init__(self, n_layers, hidden_dim, n_vocab, embed_dim, n_classes, dropout_p = 0.2):\n",
    "        super(BasicRNN, self).__init__()\n",
    "        self.n_layers = n_layers \n",
    "        self.embed = nn.Embedding(n_vocab, embed_dim) \n",
    "        self.hidden_dim = hidden_dim\n",
    "        self.dropout = nn.Dropout(dropout_p)\n",
    "        self.rnn = nn.RNN(embed_dim, self.hidden_dim, num_layers = self.n_layers, batch_first = True) \n",
    "        self.out = nn.Linear(self.hidden_dim, n_classes) \n",
    "\n",
    "    def forward(self, x):\n",
    "        x = self.embed(x) \n",
    "        h_0 = self._init_state(batch_size = x.size(0)) \n",
    "        x, _ = self.rnn(x, h_0) \n",
    "        h_t = x[:, -1, :] \n",
    "        self.dropout(h_t)\n",
    "        logit = torch.sigmoid(self.out(h_t))\n",
    "        return logit\n",
    "\n",
    "    def _init_state(self, batch_size = 1):\n",
    "        weight = next(self.parameters()).data \n",
    "        return weight.new(self.n_layers, batch_size, self.hidden_dim).zero_()"
   ]
  },
  {
   "cell_type": "code",
   "execution_count": null,
   "metadata": {},
   "outputs": [],
   "source": [
    "model = BasicRNN(n_layers = 1, hidden_dim = 256, n_vocab = vocab_size, embed_dim = 128, n_classes = n_classes, dropout_p = 0.5)\n",
    "model.to(device)\n",
    "\n",
    "loss_fn = nn.CrossEntropyLoss()\n",
    "optimizer = torch.optim.Adam(model.parameters(), lr=0.0001)"
   ]
  },
  {
   "cell_type": "code",
   "execution_count": 7,
   "metadata": {},
   "outputs": [],
   "source": [
    "def train(model, optimizer, train_iter):\n",
    "    model.train()\n",
    "    for b, batch in enumerate(train_iter):\n",
    "        x, y = batch.text.to(device), batch.label.to(device)\n",
    "        y.data.sub_(1)\n",
    "        optimizer.zero_grad()\n",
    "\n",
    "        logit = model(x)\n",
    "        loss = F.cross_entropy(logit, y)\n",
    "        loss.backward()\n",
    "        optimizer.step()\n",
    "\n",
    "        if b % 50 == 0:\n",
    "            print(\"Train Epoch: {} [{}/{} ({:.0f}%)]\\tLoss: {:.6f}\".format(e,\n",
    "                                                                           b * len(x),\n",
    "                                                                           len(train_iter.dataset),\n",
    "                                                                           100. * b / len(train_iter),\n",
    "                                                                           loss.item()))"
   ]
  },
  {
   "cell_type": "code",
   "execution_count": 8,
   "metadata": {},
   "outputs": [],
   "source": [
    "def evaluate(model, val_iter):\n",
    "    model.eval()\n",
    "    corrects, total, total_loss = 0, 0, 0\n",
    "\n",
    "    for batch in val_iter:\n",
    "        x, y = batch.text.to(device), batch.label.to(device)\n",
    "        y.data.sub_(1) \n",
    "        logit = model(x)\n",
    "        loss = F.cross_entropy(logit, y, reduction = \"sum\")\n",
    "        total += y.size(0)\n",
    "        total_loss += loss.item()\n",
    "        corrects += (logit.max(1)[1].view(y.size()).data == y.data).sum()\n",
    "        \n",
    "    avg_loss = total_loss / len(val_iter.dataset)\n",
    "    avg_accuracy = corrects / total\n",
    "    return avg_loss, avg_accuracy"
   ]
  },
  {
   "cell_type": "code",
   "execution_count": 9,
   "metadata": {},
   "outputs": [
    {
     "name": "stdout",
     "output_type": "stream",
     "text": [
      "Train Epoch: 1 [0/20000 (0%)]\tLoss: 0.694175\n",
      "Train Epoch: 1 [5000/20000 (25%)]\tLoss: 0.689750\n",
      "Train Epoch: 1 [10000/20000 (50%)]\tLoss: 0.690506\n",
      "Train Epoch: 1 [15000/20000 (75%)]\tLoss: 0.693921\n",
      "[EPOCH: 1], Validation Loss:  0.69 | Validation Accuracy:  0.51\n",
      "Train Epoch: 2 [0/20000 (0%)]\tLoss: 0.694209\n",
      "Train Epoch: 2 [5000/20000 (25%)]\tLoss: 0.696394\n",
      "Train Epoch: 2 [10000/20000 (50%)]\tLoss: 0.698654\n",
      "Train Epoch: 2 [15000/20000 (75%)]\tLoss: 0.692703\n",
      "[EPOCH: 2], Validation Loss:  0.69 | Validation Accuracy:  0.49\n",
      "Train Epoch: 3 [0/20000 (0%)]\tLoss: 0.692442\n",
      "Train Epoch: 3 [5000/20000 (25%)]\tLoss: 0.691664\n",
      "Train Epoch: 3 [10000/20000 (50%)]\tLoss: 0.694466\n",
      "Train Epoch: 3 [15000/20000 (75%)]\tLoss: 0.695536\n",
      "[EPOCH: 3], Validation Loss:  0.70 | Validation Accuracy:  0.49\n",
      "Train Epoch: 4 [0/20000 (0%)]\tLoss: 0.700182\n",
      "Train Epoch: 4 [5000/20000 (25%)]\tLoss: 0.693465\n",
      "Train Epoch: 4 [10000/20000 (50%)]\tLoss: 0.694453\n",
      "Train Epoch: 4 [15000/20000 (75%)]\tLoss: 0.693252\n",
      "[EPOCH: 4], Validation Loss:  0.69 | Validation Accuracy:  0.49\n",
      "Train Epoch: 5 [0/20000 (0%)]\tLoss: 0.692314\n",
      "Train Epoch: 5 [5000/20000 (25%)]\tLoss: 0.692659\n",
      "Train Epoch: 5 [10000/20000 (50%)]\tLoss: 0.692201\n",
      "Train Epoch: 5 [15000/20000 (75%)]\tLoss: 0.694239\n",
      "[EPOCH: 5], Validation Loss:  0.69 | Validation Accuracy:  0.49\n"
     ]
    }
   ],
   "source": [
    "BATCH_SIZE = 100\n",
    "LR = 0.001\n",
    "EPOCHS = 5\n",
    "for e in range(1, EPOCHS + 1):\n",
    "    train(model, optimizer, train_iterator)\n",
    "    val_loss, val_accuracy = evaluate(model, valid_iterator)\n",
    "    print(\"[EPOCH: %d], Validation Loss: %5.2f | Validation Accuracy: %5.2f\" % (e, val_loss, val_accuracy))"
   ]
  },
  {
   "cell_type": "code",
   "execution_count": 10,
   "metadata": {},
   "outputs": [
    {
     "name": "stdout",
     "output_type": "stream",
     "text": [
      "Test Loss:  0.68 | Test Accuracy:  0.60\n"
     ]
    }
   ],
   "source": [
    "test_loss, test_acc = evaluate(model,test_iterator)\n",
    "print(\"Test Loss: %5.2f | Test Accuracy: %5.2f\" % (test_loss, test_acc))"
   ]
  },
  {
   "cell_type": "code",
   "execution_count": null,
   "metadata": {},
   "outputs": [],
   "source": []
  }
 ],
 "metadata": {
  "language_info": {
   "name": "python"
  }
 },
 "nbformat": 4,
 "nbformat_minor": 2
}
