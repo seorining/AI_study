{
 "cells": [
  {
   "cell_type": "markdown",
   "metadata": {},
   "source": [
    "# JSON 사용하기"
   ]
  },
  {
   "cell_type": "code",
   "execution_count": 1,
   "metadata": {},
   "outputs": [],
   "source": [
    "import json"
   ]
  },
  {
   "cell_type": "code",
   "execution_count": 2,
   "metadata": {},
   "outputs": [
    {
     "name": "stdout",
     "output_type": "stream",
     "text": [
      "{'value1': 5, 'value2': 10, 'seq': [1, 2, 3, 4, 5]}\n",
      "[1, 2, 3, 4, 5]\n"
     ]
    }
   ],
   "source": [
    "a = {'value1': 5, 'value2':10, 'seq':[1,2,3,4,5]}\n",
    "\n",
    "#test.json이라는 파일로 저장\n",
    "filename = 'test.json'\n",
    "#file object를 f라고 지정\n",
    "with open(filename, 'w') as f:\n",
    "#파일 f에 a라는 데이터를 덮어씌워라\n",
    "    json.dump(a, f)\n",
    "\n",
    "#with 없이 열면 f.close()를 해주어야 하는데 까먹는 경우가 많아서\n",
    "#with를 쓰고 열면 이 문구를 벗어나면 자동으로 close해줌 => 안전함\n",
    "with open(filename, 'r') as f:\n",
    "    result = json.load(f)\n",
    "    print(result)\n",
    "    print(result['seq'])"
   ]
  },
  {
   "cell_type": "code",
   "execution_count": 3,
   "metadata": {},
   "outputs": [
    {
     "name": "stdout",
     "output_type": "stream",
     "text": [
      "'json&hash.ipynb'   test.json\n",
      "{\"value1\": 5, \"value2\": 10, \"seq\": [1, 2, 3, 4, 5]}"
     ]
    }
   ],
   "source": [
    "!ls\n",
    "!cat test.json\n",
    "# 딕셔너리 형태로 출력이 되어있음\n",
    "# JSON -> 그냥 딕셔너리를 하드디스크에 편리하게 저장했다가 불러들이는 것이다."
   ]
  },
  {
   "cell_type": "markdown",
   "metadata": {},
   "source": [
    "# Hash 사용하기\n"
   ]
  },
  {
   "cell_type": "code",
   "execution_count": 4,
   "metadata": {},
   "outputs": [
    {
     "name": "stdout",
     "output_type": "stream",
     "text": [
      "37b0f4\n"
     ]
    }
   ],
   "source": [
    "import hashlib\n",
    "\n",
    "a = \"my name is jaeyoung\"\n",
    "hash_key = hashlib.sha1(a.encode()).hexdigest()[:6]\n",
    "print(hash_key)"
   ]
  },
  {
   "cell_type": "code",
   "execution_count": 5,
   "metadata": {},
   "outputs": [
    {
     "name": "stdout",
     "output_type": "stream",
     "text": [
      "{'value1': 5, 'value2': 10, 'seq': [1, 2, 3, 4, 5]}\n",
      "c40aaa\n"
     ]
    }
   ],
   "source": [
    "# setting : 실험결과가 담긴 딕셔너리\n",
    "setting = {'value1': 5, 'value2':10, 'seq':[1,2,3,4,5]}\n",
    "\n",
    "#str(setting) setting에 있는 값들을 문자로 바꿔줌\n",
    "print(str(setting))\n",
    "\n",
    "#실험 setting 값에 대한 hash code를 생성\n",
    "hash_key = hashlib.sha1(str(setting).encode()).hexdigest()[:6]\n",
    "print(hash_key)"
   ]
  },
  {
   "cell_type": "code",
   "execution_count": 6,
   "metadata": {},
   "outputs": [
    {
     "name": "stdout",
     "output_type": "stream",
     "text": [
      "exp1-0a7972.json\n"
     ]
    }
   ],
   "source": [
    "#파일 이름 만들어보기\n",
    "\n",
    "setting = {'value1': 6, 'value2':10, 'seq':[1,2,3,45], 'exp_name': 'exp1'}\n",
    "exp_name = setting['exp_name']\n",
    "hash_key = hashlib.sha1(str(setting).encode()).hexdigest()[:6]\n",
    "filename = '{}-{}.json'.format(exp_name, hash_key)\n",
    "print(filename)"
   ]
  },
  {
   "cell_type": "markdown",
   "metadata": {},
   "source": [
    "# 실제 예시 코드"
   ]
  },
  {
   "cell_type": "code",
   "execution_count": 7,
   "metadata": {},
   "outputs": [],
   "source": [
    "import hashlib\n",
    "import json\n",
    "from os import listdir\n",
    "from os.path import isfile, join\n",
    "import pandas as pd\n",
    "\n",
    "#setting : hyperparameter들이 담겨있는 딕셔너리\n",
    "def save_exp_result(setting, result):\n",
    "    exp_name = setting['exp_name']\n",
    "    #epoch가 달라져도 해쉬값이 달라짐\n",
    "    #test_batch_size는 실험 결과에 영향이 전혀 없는데 해쉬 값이 달라짐\n",
    "    #del 명령어로 해당 값은 dictionary에서 지워줌\n",
    "    del setting['epoch']\n",
    "    del setting['test_batch_size']\n",
    "\n",
    "    hash_key = hashlib.sha1(str(setting).encode()).hexdigest()[:6]\n",
    "    filename = './results/{}-{}.json'.format(exp_name, hash_key)\n",
    "    result.update(setting)\n",
    "    with open(filename, 'w') as f:\n",
    "        json.dump(result, f)\n",
    "\n",
    "    \n",
    "def load_exp_result(exp_name):\n",
    "    dir_path = './results'\n",
    "    filenames = [f for f in listdir(dir_path) if isfile(join(dir_path, f)) if '.json' in f]\n",
    "    list_result = []\n",
    "    for filename in filenames:\n",
    "        if exp_name in filename:\n",
    "            with open(join(dir_path, filename), 'r') as infile:\n",
    "                results = json.load(infile)\n",
    "                list_result.append(results)\n",
    "    df = pd.DataFrame(list_result) # .drop(columns=[])\n",
    "    return df"
   ]
  },
  {
   "cell_type": "code",
   "execution_count": null,
   "metadata": {},
   "outputs": [],
   "source": []
  }
 ],
 "metadata": {
  "kernelspec": {
   "display_name": "Python 3.9.13 ('python39')",
   "language": "python",
   "name": "python3"
  },
  "language_info": {
   "codemirror_mode": {
    "name": "ipython",
    "version": 3
   },
   "file_extension": ".py",
   "mimetype": "text/x-python",
   "name": "python",
   "nbconvert_exporter": "python",
   "pygments_lexer": "ipython3",
   "version": "3.9.13"
  },
  "orig_nbformat": 4,
  "vscode": {
   "interpreter": {
    "hash": "09d81935f452280d346f301950426d56b519f4b0957fb36113584e99f6264cfe"
   }
  }
 },
 "nbformat": 4,
 "nbformat_minor": 2
}
