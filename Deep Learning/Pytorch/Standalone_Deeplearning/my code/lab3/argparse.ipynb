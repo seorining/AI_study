{
 "cells": [
  {
   "cell_type": "code",
   "execution_count": 1,
   "metadata": {},
   "outputs": [],
   "source": [
    "import argparse\n",
    "\n",
    "parser = argparse.ArgumentParser()\n",
    "args = parser.parse_args(\"\")"
   ]
  },
  {
   "cell_type": "code",
   "execution_count": null,
   "metadata": {},
   "outputs": [],
   "source": []
  },
  {
   "cell_type": "code",
   "execution_count": 5,
   "metadata": {},
   "outputs": [
    {
     "name": "stdout",
     "output_type": "stream",
     "text": [
      "5\n",
      "Namespace(num_layer=5, in_dim=100)\n",
      "100\n",
      "Namespace(num_layer=5, in_dim=100)\n",
      "[0, 1, 2, 3, 4]\n"
     ]
    }
   ],
   "source": [
    "#dictionary와 같은 개념인데 dictionary는 대괄호쓰고 따옴표를 치는 등 사용하기 좀 불편하니\n",
    "# .으로 편하게 접근할 수 있는 argparse를 쓰자\n",
    "\n",
    "# hyperparameter관리하는 핵심은 딕셔너리 타입의 객체에 다 저장하면 되는데\n",
    "# 딕셔너리는 타이핑할게 많으니 .으로 편하게 접근할 수 있는 argparse를 쓰자\n",
    "\n",
    "args.num_layer = 5\n",
    "print(args.num_layer)\n",
    "print(args)\n",
    "\n",
    "args.in_dim = 100\n",
    "print(args.in_dim)\n",
    "print(args)\n",
    "\n",
    "linears = []\n",
    "for i in range(args.num_layer): #dictionary라면 args[\"num_layer\"]\n",
    "    linears.append(i)\n",
    "\n",
    "print(linears)"
   ]
  },
  {
   "cell_type": "code",
   "execution_count": null,
   "metadata": {},
   "outputs": [],
   "source": []
  }
 ],
 "metadata": {
  "kernelspec": {
   "display_name": "Python 3.9.13 ('python39')",
   "language": "python",
   "name": "python3"
  },
  "language_info": {
   "codemirror_mode": {
    "name": "ipython",
    "version": 3
   },
   "file_extension": ".py",
   "mimetype": "text/x-python",
   "name": "python",
   "nbconvert_exporter": "python",
   "pygments_lexer": "ipython3",
   "version": "3.9.13"
  },
  "orig_nbformat": 4,
  "vscode": {
   "interpreter": {
    "hash": "6a39b58293aa7bb8825360ca6500e7a20798bee49bf8f42e2622a36447d08b91"
   }
  }
 },
 "nbformat": 4,
 "nbformat_minor": 2
}
