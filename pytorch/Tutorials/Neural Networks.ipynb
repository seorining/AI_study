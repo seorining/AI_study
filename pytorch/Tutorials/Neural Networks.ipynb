{
 "cells": [
  {
   "cell_type": "markdown",
   "metadata": {},
   "source": [
    "신경망은 torch.nn 패키지를 사용하여 생성할 수 있음\n",
    "nn은 모델을 정의하고, 미분하는데 autograd를 사용함.\n",
    "nn.Module은 계층(layer)과 output을 반환하는 forward(input) 메서드를 포함\n",
    "\n",
    "신경망의 일반적인 학습과정:\n",
    "- 학습 가능한 매개변수(가중치)를 갖는 신경망을 정의\n",
    "- 데이터셋 입력을 반복\n",
    "- 입력을 신경망에서 전파\n",
    "- 손실을 계산\n",
    "- 기울기를 신경망의 매개변수들에 역으로 전파\n",
    "- 신경망의 가중치를 갱신"
   ]
  },
  {
   "cell_type": "code",
   "execution_count": 15,
   "metadata": {},
   "outputs": [
    {
     "name": "stdout",
     "output_type": "stream",
     "text": [
      "Net(\n",
      "  (conv1): Conv2d(1, 6, kernel_size=(5, 5), stride=(1, 1))\n",
      "  (conv2): Conv2d(6, 16, kernel_size=(5, 5), stride=(1, 1))\n",
      "  (fc1): Linear(in_features=400, out_features=120, bias=True)\n",
      "  (fc2): Linear(in_features=120, out_features=84, bias=True)\n",
      "  (fc3): Linear(in_features=84, out_features=10, bias=True)\n",
      ")\n"
     ]
    }
   ],
   "source": [
    "import torch\n",
    "import torch.nn as nn\n",
    "import torch.nn.functional as F\n",
    "\n",
    "class Net(nn.Module):\n",
    "    def __init__(self):\n",
    "        super(Net, self).__init__()\n",
    "        \n",
    "        #입력 이미지 채널 1개, 출력채널 6개, 5x5의 정사각 컨볼루션 행렬\n",
    "        self.conv1 = nn.Conv2d(1, 6, 5)\n",
    "        #입력 이미지 채널 6개, 출력채널 16개, 5x5의 정사각 컨볼루션 행렬\n",
    "        self.conv2 = nn.Conv2d(6, 16, 5)\n",
    "        \n",
    "        self.fc1 = nn.Linear(16*5*5, 120)\n",
    "        self.fc2 = nn.Linear(120, 84)\n",
    "        self.fc3 = nn.Linear(84, 10)\n",
    "        \n",
    "    def forward(self, input):\n",
    "        # convolution layer c1 : 입력 이미지 채널 1, 출력 채널 6\n",
    "        # 5x5 정사각 합성곱, 활성함수로 relu 사용\n",
    "        # (N, 6, 28, 28)의 크기를 갖는 Tensor을 출력\n",
    "        c1 = F.relu(self.conv1(input))\n",
    "        # subsampling layer s2: 2x2 격자\n",
    "        # (N, 6, 14, 14)의 크기를 갖는 Tensor을 출력\n",
    "        s2 = F.max_pool2d(c1, (2,2))\n",
    "        \n",
    "        # convolution layer c3: 입력채널 6, 출력채널 16\n",
    "        # 5x5 정사각 합성곱, 활성 함수로 relu 사용\n",
    "        # (N, 16, 10, 10)의 크기를 갖는 Tensor을 출력\n",
    "        c3 = F.relu(self.conv2(s2))\n",
    "        # sumsampling layer s4: 2x2격자\n",
    "        # (N, 16, 5, 5)의 크기를 갖는 Tensor을 출력\n",
    "        s4 = F.max_pool2d(c3, 2)\n",
    "        \n",
    "        # 평탄화 연산 : (N, 16*5*5 = 400)의 텐서를 출력\n",
    "        s4 = torch.flatten(s4, 1)\n",
    "        \n",
    "        # fully-connected layer f5\n",
    "        # (N, 400) -> (N, 120)\n",
    "        f5 = F.relu(self.fc1(s4))\n",
    "        \n",
    "        # fully-connected layer f6\n",
    "        # (N, 120) -> (N, 84)\n",
    "        f6 = F.relu(self.fc2(f5))\n",
    "        \n",
    "        # 가우시안 레이어 출력 (N, 84) -> (N, 10)\n",
    "        output = self.fc3(f6)\n",
    "        return output\n",
    "    \n",
    "    def forward(self, x):\n",
    "        x = F.max_pool2d(F.relu(self.conv1(x)), (2,2))\n",
    "        x = F.max_pool2d(F.relu(self.conv2(x)), 2)\n",
    "        x = torch.flatten(x, 1) # 배치차원을 제외한 모든 차원을 하나로 평탄화\n",
    "        x = F.relu(self.fc1(x))\n",
    "        x = F.relu(self.fc2(x))\n",
    "        x = self.fc3(x)\n",
    "        return x\n",
    "    \n",
    "net = Net()\n",
    "print(net)"
   ]
  },
  {
   "cell_type": "code",
   "execution_count": 16,
   "metadata": {},
   "outputs": [
    {
     "name": "stdout",
     "output_type": "stream",
     "text": [
      "10\n",
      "torch.Size([6, 1, 5, 5])\n"
     ]
    }
   ],
   "source": [
    "#모델의 학습 가능한 변수들은 net.parameters()에 의해 반환됨\n",
    "params = list(net.parameters())\n",
    "print(len(params))\n",
    "print(params[0].size()) # conv1의 weight"
   ]
  },
  {
   "cell_type": "code",
   "execution_count": 17,
   "metadata": {},
   "outputs": [
    {
     "name": "stdout",
     "output_type": "stream",
     "text": [
      "tensor([[-0.0576,  0.0679,  0.0169,  0.1430,  0.0909,  0.0756, -0.0311, -0.0593,\n",
      "         -0.0413,  0.0769]], grad_fn=<AddmmBackward0>)\n"
     ]
    }
   ],
   "source": [
    "input = torch.randn(1, 1, 32, 32)\n",
    "out = net(input)\n",
    "print(out)"
   ]
  },
  {
   "cell_type": "code",
   "execution_count": 18,
   "metadata": {},
   "outputs": [],
   "source": [
    "net.zero_grad()\n",
    "out.backward(torch.randn(1, 10))"
   ]
  },
  {
   "cell_type": "markdown",
   "metadata": {},
   "source": [
    "torch.nn 은 미니배치(mini-batch)만 지원합니다. torch.nn 패키지 전체는 하나의 샘플이 아닌, 샘플들의 미니배치만을 입력으로 받습니다.\n",
    "\n",
    "예를 들어, nnConv2D 는 nSamples x nChannels x Height x Width 의 4차원 Tensor를 입력으로 합니다.\n",
    "\n",
    "만약 하나의 샘플만 있다면, input.unsqueeze(0) 을 사용해서 가상의 차원을 추가합니다."
   ]
  },
  {
   "cell_type": "code",
   "execution_count": 19,
   "metadata": {},
   "outputs": [
    {
     "name": "stdout",
     "output_type": "stream",
     "text": [
      "tensor(0.7621, grad_fn=<MseLossBackward0>)\n"
     ]
    }
   ],
   "source": [
    "output = net(input)\n",
    "target = torch.randn(10) #예시를 위한 임의의 정답\n",
    "target = target.view(1, -1) #출력과 같은 shape로 만듬\n",
    "criterion = nn.MSELoss()\n",
    "\n",
    "loss = criterion(output, target)\n",
    "print(loss)"
   ]
  },
  {
   "cell_type": "code",
   "execution_count": 20,
   "metadata": {},
   "outputs": [
    {
     "name": "stdout",
     "output_type": "stream",
     "text": [
      "conv1.bias.grad before backward\n",
      "None\n",
      "conv1.bias.gard after backward\n",
      "tensor([ 0.0056, -0.0020,  0.0112, -0.0086,  0.0047,  0.0049])\n"
     ]
    }
   ],
   "source": [
    "# loss를 backward하기 위해서는 loss.backward()만 해주면 됨\n",
    "# 기존에 계산된 변화도의 값을 누적시키고 싶지 않다면 기존에 계산된 변화도를 0으로 만들어야함\n",
    "\n",
    "net.zero_grad() #모든 매개변수의 변화도 버퍼를 0으로 만듦\n",
    "\n",
    "print('conv1.bias.grad before backward')\n",
    "print(net.conv1.bias.grad)\n",
    "\n",
    "loss.backward()\n",
    "\n",
    "print('conv1.bias.gard after backward')\n",
    "print(net.conv1.bias.grad)"
   ]
  },
  {
   "cell_type": "code",
   "execution_count": 21,
   "metadata": {},
   "outputs": [],
   "source": [
    "# 가중치 갱신\n",
    "import torch.optim as optim\n",
    "\n",
    "optimizer = optim.SGD(net.parameters(), lr=0.01)\n",
    "\n",
    "optimizer.zero_grad() #변화도 버퍼를 0으로\n",
    "output = net(input)\n",
    "loss = criterion(output, target)\n",
    "loss.backward()\n",
    "optimizer.step()  #업데이트 진행\n"
   ]
  },
  {
   "cell_type": "markdown",
   "metadata": {},
   "source": [
    "optimizer.zero_grad() 를 사용하여 수동으로 변화도 버퍼를 0으로 설정하는 것에 유의하세요. 이는 역전파(Backprop) 섹션에서 설명한 것처럼 변화도가 누적되기 때문입니다."
   ]
  },
  {
   "cell_type": "code",
   "execution_count": null,
   "metadata": {},
   "outputs": [],
   "source": [
    "lr = 0.01\n",
    "\n",
    "for f in net.parameters():\n",
    "    f.data.sub_(f.grad.data * lr)"
   ]
  }
 ],
 "metadata": {
  "kernelspec": {
   "display_name": "python310",
   "language": "python",
   "name": "python3"
  },
  "language_info": {
   "codemirror_mode": {
    "name": "ipython",
    "version": 3
   },
   "file_extension": ".py",
   "mimetype": "text/x-python",
   "name": "python",
   "nbconvert_exporter": "python",
   "pygments_lexer": "ipython3",
   "version": "3.10.13"
  }
 },
 "nbformat": 4,
 "nbformat_minor": 2
}
